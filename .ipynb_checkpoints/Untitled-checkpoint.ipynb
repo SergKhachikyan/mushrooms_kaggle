{
 "cells": [
  {
   "cell_type": "code",
   "execution_count": 1,
   "id": "daf8b4a9-7d9f-41c7-b509-ec08c58b8e1b",
   "metadata": {},
   "outputs": [],
   "source": [
    "import numpy as np\n",
    "import pandas as pd\n",
    "import matplotlib.pyplot as plt\n",
    "import seaborn as sns"
   ]
  },
  {
   "cell_type": "code",
   "execution_count": 2,
   "id": "a1808621-aa94-4b5c-a4f6-0226208b80c5",
   "metadata": {},
   "outputs": [],
   "source": [
    "df_train = pd.read_csv('../train.csv')\n",
    "df_test = pd.read_csv('../test.csv')"
   ]
  },
  {
   "cell_type": "code",
   "execution_count": 4,
   "id": "0b7bbd21-3cae-4bdf-89e6-a2023768bd33",
   "metadata": {},
   "outputs": [],
   "source": [
    "columns_to_drop = ['id', 'gill-spacing', 'stem-root', 'stem-surface', 'veil-type', 'veil-color', 'spore-print-color']\n",
    "df_train = df_train.drop(columns=columns_to_drop)\n",
    "df_test = df_test.drop(columns=columns_to_drop)"
   ]
  },
  {
   "cell_type": "code",
   "execution_count": 3,
   "id": "80944891-1e03-42f5-b284-dbbd288b0fe0",
   "metadata": {},
   "outputs": [
    {
     "name": "stdout",
     "output_type": "stream",
     "text": [
      "<class 'pandas.core.frame.DataFrame'>\n",
      "RangeIndex: 3116945 entries, 0 to 3116944\n",
      "Data columns (total 22 columns):\n",
      " #   Column                Dtype  \n",
      "---  ------                -----  \n",
      " 0   id                    int64  \n",
      " 1   class                 object \n",
      " 2   cap-diameter          float64\n",
      " 3   cap-shape             object \n",
      " 4   cap-surface           object \n",
      " 5   cap-color             object \n",
      " 6   does-bruise-or-bleed  object \n",
      " 7   gill-attachment       object \n",
      " 8   gill-spacing          object \n",
      " 9   gill-color            object \n",
      " 10  stem-height           float64\n",
      " 11  stem-width            float64\n",
      " 12  stem-root             object \n",
      " 13  stem-surface          object \n",
      " 14  stem-color            object \n",
      " 15  veil-type             object \n",
      " 16  veil-color            object \n",
      " 17  has-ring              object \n",
      " 18  ring-type             object \n",
      " 19  spore-print-color     object \n",
      " 20  habitat               object \n",
      " 21  season                object \n",
      "dtypes: float64(3), int64(1), object(18)\n",
      "memory usage: 523.2+ MB\n"
     ]
    }
   ],
   "source": [
    "df_train.info()"
   ]
  },
  {
   "cell_type": "code",
   "execution_count": 5,
   "id": "41c1d235-024e-4fab-b307-34fcef9b03ca",
   "metadata": {},
   "outputs": [
    {
     "data": {
      "text/plain": [
       "class                        0\n",
       "cap-diameter                 4\n",
       "cap-shape                   40\n",
       "cap-surface             671023\n",
       "cap-color                   12\n",
       "does-bruise-or-bleed         8\n",
       "gill-attachment         523936\n",
       "gill-color                  57\n",
       "stem-height                  0\n",
       "stem-width                   0\n",
       "stem-color                  38\n",
       "has-ring                    24\n",
       "ring-type               128880\n",
       "habitat                     45\n",
       "season                       0\n",
       "dtype: int64"
      ]
     },
     "execution_count": 5,
     "metadata": {},
     "output_type": "execute_result"
    }
   ],
   "source": [
    "df_train.isna().sum()"
   ]
  },
  {
   "cell_type": "code",
   "execution_count": 6,
   "id": "34d35916-e33d-43d1-9c9f-fcfd0c363571",
   "metadata": {},
   "outputs": [],
   "source": [
    "from sklearn.preprocessing import LabelEncoder"
   ]
  },
  {
   "cell_type": "code",
   "execution_count": 7,
   "id": "edbdb832-f90e-4601-af17-5d64442cac10",
   "metadata": {},
   "outputs": [],
   "source": [
    "label = LabelEncoder()"
   ]
  },
  {
   "cell_type": "code",
   "execution_count": 8,
   "id": "2c1e4d03-6c8e-4a58-b923-e97e8a1a9fd0",
   "metadata": {},
   "outputs": [],
   "source": [
    "df_train['class'] = label.fit_transform(df_train['class'])"
   ]
  },
  {
   "cell_type": "code",
   "execution_count": 9,
   "id": "375ba4df-f397-4cd9-957e-023a1fa0f8cd",
   "metadata": {},
   "outputs": [],
   "source": [
    "df_train['cap-diameter'] = df_train['cap-diameter'].fillna(df_train['cap-diameter'].median())"
   ]
  },
  {
   "cell_type": "code",
   "execution_count": 10,
   "id": "06c97373-92da-4964-bdae-881db3dbcab2",
   "metadata": {},
   "outputs": [],
   "source": [
    "df_test['cap-diameter'] = df_test['cap-diameter'].fillna(df_test['cap-diameter'].median())"
   ]
  },
  {
   "cell_type": "code",
   "execution_count": 11,
   "id": "d4913d61-1b4b-4099-9ff0-8edb1ec72907",
   "metadata": {},
   "outputs": [],
   "source": [
    "df_train['cap-shape'] = label.fit_transform(df_train['cap-shape'])\n",
    "known_classes = set(label.classes_)\n",
    "df_test['cap-shape'] = df_test['cap-shape'].astype(str)\n",
    "df_test['cap-shape'] = df_test['cap-shape'].apply(lambda x: x if x in known_classes else 'Unknown')\n",
    "if 'Unknown' not in label.classes_:\n",
    "    label.classes_ = np.append(label.classes_, 'Unknown')\n",
    "    df_test['cap-shape'] = label.transform(df_test['cap-shape'])"
   ]
  },
  {
   "cell_type": "code",
   "execution_count": 12,
   "id": "742654ac-694c-45a4-854e-5c2c77c2e899",
   "metadata": {},
   "outputs": [
    {
     "name": "stdout",
     "output_type": "stream",
     "text": [
      "<class 'pandas.core.frame.DataFrame'>\n",
      "RangeIndex: 3116945 entries, 0 to 3116944\n",
      "Data columns (total 15 columns):\n",
      " #   Column                Dtype  \n",
      "---  ------                -----  \n",
      " 0   class                 int64  \n",
      " 1   cap-diameter          float64\n",
      " 2   cap-shape             int64  \n",
      " 3   cap-surface           object \n",
      " 4   cap-color             object \n",
      " 5   does-bruise-or-bleed  object \n",
      " 6   gill-attachment       object \n",
      " 7   gill-color            object \n",
      " 8   stem-height           float64\n",
      " 9   stem-width            float64\n",
      " 10  stem-color            object \n",
      " 11  has-ring              object \n",
      " 12  ring-type             object \n",
      " 13  habitat               object \n",
      " 14  season                object \n",
      "dtypes: float64(3), int64(2), object(10)\n",
      "memory usage: 356.7+ MB\n"
     ]
    }
   ],
   "source": [
    "df_train.info()"
   ]
  },
  {
   "cell_type": "code",
   "execution_count": 13,
   "id": "36d7db28-4550-44e3-80df-a965652454c4",
   "metadata": {},
   "outputs": [
    {
     "data": {
      "text/plain": [
       "class                        0\n",
       "cap-diameter                 0\n",
       "cap-shape                    0\n",
       "cap-surface             671023\n",
       "cap-color                   12\n",
       "does-bruise-or-bleed         8\n",
       "gill-attachment         523936\n",
       "gill-color                  57\n",
       "stem-height                  0\n",
       "stem-width                   0\n",
       "stem-color                  38\n",
       "has-ring                    24\n",
       "ring-type               128880\n",
       "habitat                     45\n",
       "season                       0\n",
       "dtype: int64"
      ]
     },
     "execution_count": 13,
     "metadata": {},
     "output_type": "execute_result"
    }
   ],
   "source": [
    "df_train.isna().sum()"
   ]
  },
  {
   "cell_type": "code",
   "execution_count": 14,
   "id": "e30974ce-ea48-4b88-a5da-35dd7e63de85",
   "metadata": {},
   "outputs": [],
   "source": [
    "df_train['cap-surface'] = label.fit_transform(df_train['cap-surface'])\n",
    "known_classes = set(label.classes_)\n",
    "df_test['cap-surface'] = df_test['cap-surface'].astype(str)\n",
    "df_test['cap-surface'] = df_test['cap-surface'].apply(lambda x: x if x in known_classes else 'Unknown')\n",
    "if 'Unknown' not in label.classes_:\n",
    "    label.classes_ = np.append(label.classes_, 'Unknown')\n",
    "    df_test['cap-surface'] = label.transform(df_test['cap-surface'])"
   ]
  },
  {
   "cell_type": "code",
   "execution_count": 15,
   "id": "84360e69-bf84-4f99-a367-eb5813a5d4cf",
   "metadata": {},
   "outputs": [],
   "source": [
    "df_train['cap-color'] = label.fit_transform(df_train['cap-color'])\n",
    "known_classes = set(label.classes_)\n",
    "df_test['cap-color'] = df_test['cap-color'].astype(str)\n",
    "df_test['cap-color'] = df_test['cap-color'].apply(lambda x: x if x in known_classes else 'Unknown')\n",
    "if 'Unknown' not in label.classes_:\n",
    "    label.classes_ = np.append(label.classes_, 'Unknown')\n",
    "    df_test['cap-color'] = label.transform(df_test['cap-color'])"
   ]
  },
  {
   "cell_type": "code",
   "execution_count": 16,
   "id": "a69ddcdb-4b85-4d27-b3ab-eb84cc153f9d",
   "metadata": {},
   "outputs": [],
   "source": [
    "df_train['does-bruise-or-bleed'] = label.fit_transform(df_train['does-bruise-or-bleed'])\n",
    "known_classes = set(label.classes_)\n",
    "df_test['does-bruise-or-bleed'] = df_test['does-bruise-or-bleed'].astype(str)\n",
    "df_test['does-bruise-or-bleed'] = df_test['does-bruise-or-bleed'].apply(lambda x: x if x in known_classes else 'Unknown')\n",
    "if 'Unknown' not in label.classes_:\n",
    "    label.classes_ = np.append(label.classes_, 'Unknown')\n",
    "    df_test['does-bruise-or-bleed'] = label.transform(df_test['does-bruise-or-bleed'])"
   ]
  },
  {
   "cell_type": "code",
   "execution_count": 17,
   "id": "b834949c-5df3-410b-9a20-4c7ec22a4690",
   "metadata": {},
   "outputs": [],
   "source": [
    "df_train['gill-attachment'] = label.fit_transform(df_train['gill-attachment'])\n",
    "known_classes = set(label.classes_)\n",
    "df_test['gill-attachment'] = df_test['gill-attachment'].astype(str)\n",
    "df_test['gill-attachment'] = df_test['gill-attachment'].apply(lambda x: x if x in known_classes else 'Unknown')\n",
    "if 'Unknown' not in label.classes_:\n",
    "    label.classes_ = np.append(label.classes_, 'Unknown')\n",
    "    df_test['gill-attachment'] = label.transform(df_test['gill-attachment'])"
   ]
  },
  {
   "cell_type": "code",
   "execution_count": 18,
   "id": "a30c7963-490d-4593-a2aa-6f73af59cd11",
   "metadata": {},
   "outputs": [],
   "source": [
    "df_train['gill-color'] = label.fit_transform(df_train['gill-color'])\n",
    "known_classes = set(label.classes_)\n",
    "df_test['gill-color'] = df_test['gill-color'].astype(str)\n",
    "df_test['gill-color'] = df_test['gill-color'].apply(lambda x: x if x in known_classes else 'Unknown')\n",
    "if 'Unknown' not in label.classes_:\n",
    "    label.classes_ = np.append(label.classes_, 'Unknown')\n",
    "    df_test['gill-color'] = label.transform(df_test['gill-color'])"
   ]
  },
  {
   "cell_type": "code",
   "execution_count": 19,
   "id": "c89ba902-61c4-4201-96b6-8b63208cad04",
   "metadata": {},
   "outputs": [
    {
     "name": "stdout",
     "output_type": "stream",
     "text": [
      "<class 'pandas.core.frame.DataFrame'>\n",
      "RangeIndex: 3116945 entries, 0 to 3116944\n",
      "Data columns (total 15 columns):\n",
      " #   Column                Dtype  \n",
      "---  ------                -----  \n",
      " 0   class                 int64  \n",
      " 1   cap-diameter          float64\n",
      " 2   cap-shape             int64  \n",
      " 3   cap-surface           int64  \n",
      " 4   cap-color             int64  \n",
      " 5   does-bruise-or-bleed  int64  \n",
      " 6   gill-attachment       int64  \n",
      " 7   gill-color            int64  \n",
      " 8   stem-height           float64\n",
      " 9   stem-width            float64\n",
      " 10  stem-color            object \n",
      " 11  has-ring              object \n",
      " 12  ring-type             object \n",
      " 13  habitat               object \n",
      " 14  season                object \n",
      "dtypes: float64(3), int64(7), object(5)\n",
      "memory usage: 356.7+ MB\n"
     ]
    }
   ],
   "source": [
    "df_train.info()"
   ]
  },
  {
   "cell_type": "code",
   "execution_count": 20,
   "id": "869692cb-db10-4a1a-a5fe-eb9c0067b6a2",
   "metadata": {},
   "outputs": [],
   "source": [
    "df_train['stem-color'] = label.fit_transform(df_train['stem-color'])\n",
    "known_classes = set(label.classes_)\n",
    "df_test['stem-color'] = df_test['stem-color'].astype(str)\n",
    "df_test['stem-color'] = df_test['stem-color'].apply(lambda x: x if x in known_classes else 'Unknown')\n",
    "if 'Unknown' not in label.classes_:\n",
    "    label.classes_ = np.append(label.classes_, 'Unknown')\n",
    "    df_test['stem-color'] = label.transform(df_test['stem-color'])"
   ]
  },
  {
   "cell_type": "code",
   "execution_count": 21,
   "id": "cbb910de-2f4b-420d-ad4a-02fdf66648b5",
   "metadata": {},
   "outputs": [],
   "source": [
    "df_train['has-ring'] = label.fit_transform(df_train['has-ring'])\n",
    "known_classes = set(label.classes_)\n",
    "df_test['has-ring'] = df_test['has-ring'].astype(str)\n",
    "df_test['has-ring'] = df_test['has-ring'].apply(lambda x: x if x in known_classes else 'Unknown')\n",
    "if 'Unknown' not in label.classes_:\n",
    "    label.classes_ = np.append(label.classes_, 'Unknown')\n",
    "    df_test['has-ring'] = label.transform(df_test['has-ring'])"
   ]
  },
  {
   "cell_type": "code",
   "execution_count": 22,
   "id": "03906c49-6e92-4f4b-b28f-b6e0447d07ef",
   "metadata": {},
   "outputs": [],
   "source": [
    "df_train['ring-type'] = label.fit_transform(df_train['ring-type'])\n",
    "known_classes = set(label.classes_)\n",
    "df_test['ring-type'] = df_test['ring-type'].astype(str)\n",
    "df_test['ring-type'] = df_test['ring-type'].apply(lambda x: x if x in known_classes else 'Unknown')\n",
    "if 'Unknown' not in label.classes_:\n",
    "    label.classes_ = np.append(label.classes_, 'Unknown')\n",
    "    df_test['ring-type'] = label.transform(df_test['ring-type'])"
   ]
  },
  {
   "cell_type": "code",
   "execution_count": 23,
   "id": "a446a3cc-ce68-4979-862d-1e96218a40d6",
   "metadata": {},
   "outputs": [],
   "source": [
    "df_train['habitat'] = label.fit_transform(df_train['habitat'])\n",
    "known_classes = set(label.classes_)\n",
    "df_test['habitat'] = df_test['habitat'].astype(str)\n",
    "df_test['habitat'] = df_test['habitat'].apply(lambda x: x if x in known_classes else 'Unknown')\n",
    "if 'Unknown' not in label.classes_:\n",
    "    label.classes_ = np.append(label.classes_, 'Unknown')\n",
    "    df_test['habitat'] = label.transform(df_test['habitat'])"
   ]
  },
  {
   "cell_type": "code",
   "execution_count": 24,
   "id": "c4e64cdf-0fd5-4adc-a4a3-939449392389",
   "metadata": {},
   "outputs": [
    {
     "name": "stdout",
     "output_type": "stream",
     "text": [
      "<class 'pandas.core.frame.DataFrame'>\n",
      "RangeIndex: 3116945 entries, 0 to 3116944\n",
      "Data columns (total 15 columns):\n",
      " #   Column                Dtype  \n",
      "---  ------                -----  \n",
      " 0   class                 int64  \n",
      " 1   cap-diameter          float64\n",
      " 2   cap-shape             int64  \n",
      " 3   cap-surface           int64  \n",
      " 4   cap-color             int64  \n",
      " 5   does-bruise-or-bleed  int64  \n",
      " 6   gill-attachment       int64  \n",
      " 7   gill-color            int64  \n",
      " 8   stem-height           float64\n",
      " 9   stem-width            float64\n",
      " 10  stem-color            int64  \n",
      " 11  has-ring              int64  \n",
      " 12  ring-type             int64  \n",
      " 13  habitat               int64  \n",
      " 14  season                object \n",
      "dtypes: float64(3), int64(11), object(1)\n",
      "memory usage: 356.7+ MB\n"
     ]
    }
   ],
   "source": [
    "df_train.info()"
   ]
  },
  {
   "cell_type": "code",
   "execution_count": 25,
   "id": "51a36805-245a-4874-bad1-f8d010e2956d",
   "metadata": {},
   "outputs": [
    {
     "data": {
      "text/plain": [
       "class                   0\n",
       "cap-diameter            0\n",
       "cap-shape               0\n",
       "cap-surface             0\n",
       "cap-color               0\n",
       "does-bruise-or-bleed    0\n",
       "gill-attachment         0\n",
       "gill-color              0\n",
       "stem-height             0\n",
       "stem-width              0\n",
       "stem-color              0\n",
       "has-ring                0\n",
       "ring-type               0\n",
       "habitat                 0\n",
       "season                  0\n",
       "dtype: int64"
      ]
     },
     "execution_count": 25,
     "metadata": {},
     "output_type": "execute_result"
    }
   ],
   "source": [
    "df_train.isna().sum()"
   ]
  },
  {
   "cell_type": "code",
   "execution_count": 26,
   "id": "4396d58d-4004-4b12-b2ab-a55c1f92ea4a",
   "metadata": {},
   "outputs": [],
   "source": [
    "df_train['season'] = label.fit_transform(df_train['season'])\n",
    "df_test['season'] = label.transform(df_test['season'])"
   ]
  },
  {
   "cell_type": "code",
   "execution_count": 27,
   "id": "fc576702-0edf-442b-abd2-f700a1470bbd",
   "metadata": {},
   "outputs": [],
   "source": [
    "from sklearn.ensemble import RandomForestClassifier"
   ]
  },
  {
   "cell_type": "code",
   "execution_count": 28,
   "id": "43e33382-3033-4e4b-ae71-6f72951e8c5b",
   "metadata": {},
   "outputs": [],
   "source": [
    "model = RandomForestClassifier()"
   ]
  },
  {
   "cell_type": "code",
   "execution_count": 29,
   "id": "5f8330b3-409d-4033-89b1-c29ac2676383",
   "metadata": {},
   "outputs": [],
   "source": [
    "X_train = df_train.drop(\"class\", axis=1)\n",
    "y_train = df_train[\"class\"]\n",
    "X_test = df_test.copy()"
   ]
  },
  {
   "cell_type": "code",
   "execution_count": 30,
   "id": "e6ce001c-9f35-492d-8f69-e01b02de0335",
   "metadata": {},
   "outputs": [
    {
     "name": "stdout",
     "output_type": "stream",
     "text": [
      "<class 'pandas.core.frame.DataFrame'>\n",
      "RangeIndex: 3116945 entries, 0 to 3116944\n",
      "Data columns (total 15 columns):\n",
      " #   Column                Dtype  \n",
      "---  ------                -----  \n",
      " 0   class                 int64  \n",
      " 1   cap-diameter          float64\n",
      " 2   cap-shape             int64  \n",
      " 3   cap-surface           int64  \n",
      " 4   cap-color             int64  \n",
      " 5   does-bruise-or-bleed  int64  \n",
      " 6   gill-attachment       int64  \n",
      " 7   gill-color            int64  \n",
      " 8   stem-height           float64\n",
      " 9   stem-width            float64\n",
      " 10  stem-color            int64  \n",
      " 11  has-ring              int64  \n",
      " 12  ring-type             int64  \n",
      " 13  habitat               int64  \n",
      " 14  season                int64  \n",
      "dtypes: float64(3), int64(12)\n",
      "memory usage: 356.7 MB\n"
     ]
    }
   ],
   "source": [
    "df_train.info()"
   ]
  },
  {
   "cell_type": "code",
   "execution_count": 31,
   "id": "70f3ea8e-7ac1-4012-bb52-50f52ca19722",
   "metadata": {},
   "outputs": [
    {
     "data": {
      "text/plain": [
       "class                   0\n",
       "cap-diameter            0\n",
       "cap-shape               0\n",
       "cap-surface             0\n",
       "cap-color               0\n",
       "does-bruise-or-bleed    0\n",
       "gill-attachment         0\n",
       "gill-color              0\n",
       "stem-height             0\n",
       "stem-width              0\n",
       "stem-color              0\n",
       "has-ring                0\n",
       "ring-type               0\n",
       "habitat                 0\n",
       "season                  0\n",
       "dtype: int64"
      ]
     },
     "execution_count": 31,
     "metadata": {},
     "output_type": "execute_result"
    }
   ],
   "source": [
    "df_train.isna().sum()"
   ]
  },
  {
   "cell_type": "code",
   "execution_count": 32,
   "id": "c577c8bd-e1c3-4c4c-9d91-679c2453b8fa",
   "metadata": {},
   "outputs": [
    {
     "data": {
      "text/html": [
       "<style>#sk-container-id-1 {\n",
       "  /* Definition of color scheme common for light and dark mode */\n",
       "  --sklearn-color-text: #000;\n",
       "  --sklearn-color-text-muted: #666;\n",
       "  --sklearn-color-line: gray;\n",
       "  /* Definition of color scheme for unfitted estimators */\n",
       "  --sklearn-color-unfitted-level-0: #fff5e6;\n",
       "  --sklearn-color-unfitted-level-1: #f6e4d2;\n",
       "  --sklearn-color-unfitted-level-2: #ffe0b3;\n",
       "  --sklearn-color-unfitted-level-3: chocolate;\n",
       "  /* Definition of color scheme for fitted estimators */\n",
       "  --sklearn-color-fitted-level-0: #f0f8ff;\n",
       "  --sklearn-color-fitted-level-1: #d4ebff;\n",
       "  --sklearn-color-fitted-level-2: #b3dbfd;\n",
       "  --sklearn-color-fitted-level-3: cornflowerblue;\n",
       "\n",
       "  /* Specific color for light theme */\n",
       "  --sklearn-color-text-on-default-background: var(--sg-text-color, var(--theme-code-foreground, var(--jp-content-font-color1, black)));\n",
       "  --sklearn-color-background: var(--sg-background-color, var(--theme-background, var(--jp-layout-color0, white)));\n",
       "  --sklearn-color-border-box: var(--sg-text-color, var(--theme-code-foreground, var(--jp-content-font-color1, black)));\n",
       "  --sklearn-color-icon: #696969;\n",
       "\n",
       "  @media (prefers-color-scheme: dark) {\n",
       "    /* Redefinition of color scheme for dark theme */\n",
       "    --sklearn-color-text-on-default-background: var(--sg-text-color, var(--theme-code-foreground, var(--jp-content-font-color1, white)));\n",
       "    --sklearn-color-background: var(--sg-background-color, var(--theme-background, var(--jp-layout-color0, #111)));\n",
       "    --sklearn-color-border-box: var(--sg-text-color, var(--theme-code-foreground, var(--jp-content-font-color1, white)));\n",
       "    --sklearn-color-icon: #878787;\n",
       "  }\n",
       "}\n",
       "\n",
       "#sk-container-id-1 {\n",
       "  color: var(--sklearn-color-text);\n",
       "}\n",
       "\n",
       "#sk-container-id-1 pre {\n",
       "  padding: 0;\n",
       "}\n",
       "\n",
       "#sk-container-id-1 input.sk-hidden--visually {\n",
       "  border: 0;\n",
       "  clip: rect(1px 1px 1px 1px);\n",
       "  clip: rect(1px, 1px, 1px, 1px);\n",
       "  height: 1px;\n",
       "  margin: -1px;\n",
       "  overflow: hidden;\n",
       "  padding: 0;\n",
       "  position: absolute;\n",
       "  width: 1px;\n",
       "}\n",
       "\n",
       "#sk-container-id-1 div.sk-dashed-wrapped {\n",
       "  border: 1px dashed var(--sklearn-color-line);\n",
       "  margin: 0 0.4em 0.5em 0.4em;\n",
       "  box-sizing: border-box;\n",
       "  padding-bottom: 0.4em;\n",
       "  background-color: var(--sklearn-color-background);\n",
       "}\n",
       "\n",
       "#sk-container-id-1 div.sk-container {\n",
       "  /* jupyter's `normalize.less` sets `[hidden] { display: none; }`\n",
       "     but bootstrap.min.css set `[hidden] { display: none !important; }`\n",
       "     so we also need the `!important` here to be able to override the\n",
       "     default hidden behavior on the sphinx rendered scikit-learn.org.\n",
       "     See: https://github.com/scikit-learn/scikit-learn/issues/21755 */\n",
       "  display: inline-block !important;\n",
       "  position: relative;\n",
       "}\n",
       "\n",
       "#sk-container-id-1 div.sk-text-repr-fallback {\n",
       "  display: none;\n",
       "}\n",
       "\n",
       "div.sk-parallel-item,\n",
       "div.sk-serial,\n",
       "div.sk-item {\n",
       "  /* draw centered vertical line to link estimators */\n",
       "  background-image: linear-gradient(var(--sklearn-color-text-on-default-background), var(--sklearn-color-text-on-default-background));\n",
       "  background-size: 2px 100%;\n",
       "  background-repeat: no-repeat;\n",
       "  background-position: center center;\n",
       "}\n",
       "\n",
       "/* Parallel-specific style estimator block */\n",
       "\n",
       "#sk-container-id-1 div.sk-parallel-item::after {\n",
       "  content: \"\";\n",
       "  width: 100%;\n",
       "  border-bottom: 2px solid var(--sklearn-color-text-on-default-background);\n",
       "  flex-grow: 1;\n",
       "}\n",
       "\n",
       "#sk-container-id-1 div.sk-parallel {\n",
       "  display: flex;\n",
       "  align-items: stretch;\n",
       "  justify-content: center;\n",
       "  background-color: var(--sklearn-color-background);\n",
       "  position: relative;\n",
       "}\n",
       "\n",
       "#sk-container-id-1 div.sk-parallel-item {\n",
       "  display: flex;\n",
       "  flex-direction: column;\n",
       "}\n",
       "\n",
       "#sk-container-id-1 div.sk-parallel-item:first-child::after {\n",
       "  align-self: flex-end;\n",
       "  width: 50%;\n",
       "}\n",
       "\n",
       "#sk-container-id-1 div.sk-parallel-item:last-child::after {\n",
       "  align-self: flex-start;\n",
       "  width: 50%;\n",
       "}\n",
       "\n",
       "#sk-container-id-1 div.sk-parallel-item:only-child::after {\n",
       "  width: 0;\n",
       "}\n",
       "\n",
       "/* Serial-specific style estimator block */\n",
       "\n",
       "#sk-container-id-1 div.sk-serial {\n",
       "  display: flex;\n",
       "  flex-direction: column;\n",
       "  align-items: center;\n",
       "  background-color: var(--sklearn-color-background);\n",
       "  padding-right: 1em;\n",
       "  padding-left: 1em;\n",
       "}\n",
       "\n",
       "\n",
       "/* Toggleable style: style used for estimator/Pipeline/ColumnTransformer box that is\n",
       "clickable and can be expanded/collapsed.\n",
       "- Pipeline and ColumnTransformer use this feature and define the default style\n",
       "- Estimators will overwrite some part of the style using the `sk-estimator` class\n",
       "*/\n",
       "\n",
       "/* Pipeline and ColumnTransformer style (default) */\n",
       "\n",
       "#sk-container-id-1 div.sk-toggleable {\n",
       "  /* Default theme specific background. It is overwritten whether we have a\n",
       "  specific estimator or a Pipeline/ColumnTransformer */\n",
       "  background-color: var(--sklearn-color-background);\n",
       "}\n",
       "\n",
       "/* Toggleable label */\n",
       "#sk-container-id-1 label.sk-toggleable__label {\n",
       "  cursor: pointer;\n",
       "  display: flex;\n",
       "  width: 100%;\n",
       "  margin-bottom: 0;\n",
       "  padding: 0.5em;\n",
       "  box-sizing: border-box;\n",
       "  text-align: center;\n",
       "  align-items: start;\n",
       "  justify-content: space-between;\n",
       "  gap: 0.5em;\n",
       "}\n",
       "\n",
       "#sk-container-id-1 label.sk-toggleable__label .caption {\n",
       "  font-size: 0.6rem;\n",
       "  font-weight: lighter;\n",
       "  color: var(--sklearn-color-text-muted);\n",
       "}\n",
       "\n",
       "#sk-container-id-1 label.sk-toggleable__label-arrow:before {\n",
       "  /* Arrow on the left of the label */\n",
       "  content: \"▸\";\n",
       "  float: left;\n",
       "  margin-right: 0.25em;\n",
       "  color: var(--sklearn-color-icon);\n",
       "}\n",
       "\n",
       "#sk-container-id-1 label.sk-toggleable__label-arrow:hover:before {\n",
       "  color: var(--sklearn-color-text);\n",
       "}\n",
       "\n",
       "/* Toggleable content - dropdown */\n",
       "\n",
       "#sk-container-id-1 div.sk-toggleable__content {\n",
       "  max-height: 0;\n",
       "  max-width: 0;\n",
       "  overflow: hidden;\n",
       "  text-align: left;\n",
       "  /* unfitted */\n",
       "  background-color: var(--sklearn-color-unfitted-level-0);\n",
       "}\n",
       "\n",
       "#sk-container-id-1 div.sk-toggleable__content.fitted {\n",
       "  /* fitted */\n",
       "  background-color: var(--sklearn-color-fitted-level-0);\n",
       "}\n",
       "\n",
       "#sk-container-id-1 div.sk-toggleable__content pre {\n",
       "  margin: 0.2em;\n",
       "  border-radius: 0.25em;\n",
       "  color: var(--sklearn-color-text);\n",
       "  /* unfitted */\n",
       "  background-color: var(--sklearn-color-unfitted-level-0);\n",
       "}\n",
       "\n",
       "#sk-container-id-1 div.sk-toggleable__content.fitted pre {\n",
       "  /* unfitted */\n",
       "  background-color: var(--sklearn-color-fitted-level-0);\n",
       "}\n",
       "\n",
       "#sk-container-id-1 input.sk-toggleable__control:checked~div.sk-toggleable__content {\n",
       "  /* Expand drop-down */\n",
       "  max-height: 200px;\n",
       "  max-width: 100%;\n",
       "  overflow: auto;\n",
       "}\n",
       "\n",
       "#sk-container-id-1 input.sk-toggleable__control:checked~label.sk-toggleable__label-arrow:before {\n",
       "  content: \"▾\";\n",
       "}\n",
       "\n",
       "/* Pipeline/ColumnTransformer-specific style */\n",
       "\n",
       "#sk-container-id-1 div.sk-label input.sk-toggleable__control:checked~label.sk-toggleable__label {\n",
       "  color: var(--sklearn-color-text);\n",
       "  background-color: var(--sklearn-color-unfitted-level-2);\n",
       "}\n",
       "\n",
       "#sk-container-id-1 div.sk-label.fitted input.sk-toggleable__control:checked~label.sk-toggleable__label {\n",
       "  background-color: var(--sklearn-color-fitted-level-2);\n",
       "}\n",
       "\n",
       "/* Estimator-specific style */\n",
       "\n",
       "/* Colorize estimator box */\n",
       "#sk-container-id-1 div.sk-estimator input.sk-toggleable__control:checked~label.sk-toggleable__label {\n",
       "  /* unfitted */\n",
       "  background-color: var(--sklearn-color-unfitted-level-2);\n",
       "}\n",
       "\n",
       "#sk-container-id-1 div.sk-estimator.fitted input.sk-toggleable__control:checked~label.sk-toggleable__label {\n",
       "  /* fitted */\n",
       "  background-color: var(--sklearn-color-fitted-level-2);\n",
       "}\n",
       "\n",
       "#sk-container-id-1 div.sk-label label.sk-toggleable__label,\n",
       "#sk-container-id-1 div.sk-label label {\n",
       "  /* The background is the default theme color */\n",
       "  color: var(--sklearn-color-text-on-default-background);\n",
       "}\n",
       "\n",
       "/* On hover, darken the color of the background */\n",
       "#sk-container-id-1 div.sk-label:hover label.sk-toggleable__label {\n",
       "  color: var(--sklearn-color-text);\n",
       "  background-color: var(--sklearn-color-unfitted-level-2);\n",
       "}\n",
       "\n",
       "/* Label box, darken color on hover, fitted */\n",
       "#sk-container-id-1 div.sk-label.fitted:hover label.sk-toggleable__label.fitted {\n",
       "  color: var(--sklearn-color-text);\n",
       "  background-color: var(--sklearn-color-fitted-level-2);\n",
       "}\n",
       "\n",
       "/* Estimator label */\n",
       "\n",
       "#sk-container-id-1 div.sk-label label {\n",
       "  font-family: monospace;\n",
       "  font-weight: bold;\n",
       "  display: inline-block;\n",
       "  line-height: 1.2em;\n",
       "}\n",
       "\n",
       "#sk-container-id-1 div.sk-label-container {\n",
       "  text-align: center;\n",
       "}\n",
       "\n",
       "/* Estimator-specific */\n",
       "#sk-container-id-1 div.sk-estimator {\n",
       "  font-family: monospace;\n",
       "  border: 1px dotted var(--sklearn-color-border-box);\n",
       "  border-radius: 0.25em;\n",
       "  box-sizing: border-box;\n",
       "  margin-bottom: 0.5em;\n",
       "  /* unfitted */\n",
       "  background-color: var(--sklearn-color-unfitted-level-0);\n",
       "}\n",
       "\n",
       "#sk-container-id-1 div.sk-estimator.fitted {\n",
       "  /* fitted */\n",
       "  background-color: var(--sklearn-color-fitted-level-0);\n",
       "}\n",
       "\n",
       "/* on hover */\n",
       "#sk-container-id-1 div.sk-estimator:hover {\n",
       "  /* unfitted */\n",
       "  background-color: var(--sklearn-color-unfitted-level-2);\n",
       "}\n",
       "\n",
       "#sk-container-id-1 div.sk-estimator.fitted:hover {\n",
       "  /* fitted */\n",
       "  background-color: var(--sklearn-color-fitted-level-2);\n",
       "}\n",
       "\n",
       "/* Specification for estimator info (e.g. \"i\" and \"?\") */\n",
       "\n",
       "/* Common style for \"i\" and \"?\" */\n",
       "\n",
       ".sk-estimator-doc-link,\n",
       "a:link.sk-estimator-doc-link,\n",
       "a:visited.sk-estimator-doc-link {\n",
       "  float: right;\n",
       "  font-size: smaller;\n",
       "  line-height: 1em;\n",
       "  font-family: monospace;\n",
       "  background-color: var(--sklearn-color-background);\n",
       "  border-radius: 1em;\n",
       "  height: 1em;\n",
       "  width: 1em;\n",
       "  text-decoration: none !important;\n",
       "  margin-left: 0.5em;\n",
       "  text-align: center;\n",
       "  /* unfitted */\n",
       "  border: var(--sklearn-color-unfitted-level-1) 1pt solid;\n",
       "  color: var(--sklearn-color-unfitted-level-1);\n",
       "}\n",
       "\n",
       ".sk-estimator-doc-link.fitted,\n",
       "a:link.sk-estimator-doc-link.fitted,\n",
       "a:visited.sk-estimator-doc-link.fitted {\n",
       "  /* fitted */\n",
       "  border: var(--sklearn-color-fitted-level-1) 1pt solid;\n",
       "  color: var(--sklearn-color-fitted-level-1);\n",
       "}\n",
       "\n",
       "/* On hover */\n",
       "div.sk-estimator:hover .sk-estimator-doc-link:hover,\n",
       ".sk-estimator-doc-link:hover,\n",
       "div.sk-label-container:hover .sk-estimator-doc-link:hover,\n",
       ".sk-estimator-doc-link:hover {\n",
       "  /* unfitted */\n",
       "  background-color: var(--sklearn-color-unfitted-level-3);\n",
       "  color: var(--sklearn-color-background);\n",
       "  text-decoration: none;\n",
       "}\n",
       "\n",
       "div.sk-estimator.fitted:hover .sk-estimator-doc-link.fitted:hover,\n",
       ".sk-estimator-doc-link.fitted:hover,\n",
       "div.sk-label-container:hover .sk-estimator-doc-link.fitted:hover,\n",
       ".sk-estimator-doc-link.fitted:hover {\n",
       "  /* fitted */\n",
       "  background-color: var(--sklearn-color-fitted-level-3);\n",
       "  color: var(--sklearn-color-background);\n",
       "  text-decoration: none;\n",
       "}\n",
       "\n",
       "/* Span, style for the box shown on hovering the info icon */\n",
       ".sk-estimator-doc-link span {\n",
       "  display: none;\n",
       "  z-index: 9999;\n",
       "  position: relative;\n",
       "  font-weight: normal;\n",
       "  right: .2ex;\n",
       "  padding: .5ex;\n",
       "  margin: .5ex;\n",
       "  width: min-content;\n",
       "  min-width: 20ex;\n",
       "  max-width: 50ex;\n",
       "  color: var(--sklearn-color-text);\n",
       "  box-shadow: 2pt 2pt 4pt #999;\n",
       "  /* unfitted */\n",
       "  background: var(--sklearn-color-unfitted-level-0);\n",
       "  border: .5pt solid var(--sklearn-color-unfitted-level-3);\n",
       "}\n",
       "\n",
       ".sk-estimator-doc-link.fitted span {\n",
       "  /* fitted */\n",
       "  background: var(--sklearn-color-fitted-level-0);\n",
       "  border: var(--sklearn-color-fitted-level-3);\n",
       "}\n",
       "\n",
       ".sk-estimator-doc-link:hover span {\n",
       "  display: block;\n",
       "}\n",
       "\n",
       "/* \"?\"-specific style due to the `<a>` HTML tag */\n",
       "\n",
       "#sk-container-id-1 a.estimator_doc_link {\n",
       "  float: right;\n",
       "  font-size: 1rem;\n",
       "  line-height: 1em;\n",
       "  font-family: monospace;\n",
       "  background-color: var(--sklearn-color-background);\n",
       "  border-radius: 1rem;\n",
       "  height: 1rem;\n",
       "  width: 1rem;\n",
       "  text-decoration: none;\n",
       "  /* unfitted */\n",
       "  color: var(--sklearn-color-unfitted-level-1);\n",
       "  border: var(--sklearn-color-unfitted-level-1) 1pt solid;\n",
       "}\n",
       "\n",
       "#sk-container-id-1 a.estimator_doc_link.fitted {\n",
       "  /* fitted */\n",
       "  border: var(--sklearn-color-fitted-level-1) 1pt solid;\n",
       "  color: var(--sklearn-color-fitted-level-1);\n",
       "}\n",
       "\n",
       "/* On hover */\n",
       "#sk-container-id-1 a.estimator_doc_link:hover {\n",
       "  /* unfitted */\n",
       "  background-color: var(--sklearn-color-unfitted-level-3);\n",
       "  color: var(--sklearn-color-background);\n",
       "  text-decoration: none;\n",
       "}\n",
       "\n",
       "#sk-container-id-1 a.estimator_doc_link.fitted:hover {\n",
       "  /* fitted */\n",
       "  background-color: var(--sklearn-color-fitted-level-3);\n",
       "}\n",
       "</style><div id=\"sk-container-id-1\" class=\"sk-top-container\"><div class=\"sk-text-repr-fallback\"><pre>RandomForestClassifier()</pre><b>In a Jupyter environment, please rerun this cell to show the HTML representation or trust the notebook. <br />On GitHub, the HTML representation is unable to render, please try loading this page with nbviewer.org.</b></div><div class=\"sk-container\" hidden><div class=\"sk-item\"><div class=\"sk-estimator fitted sk-toggleable\"><input class=\"sk-toggleable__control sk-hidden--visually\" id=\"sk-estimator-id-1\" type=\"checkbox\" checked><label for=\"sk-estimator-id-1\" class=\"sk-toggleable__label fitted sk-toggleable__label-arrow\"><div><div>RandomForestClassifier</div></div><div><a class=\"sk-estimator-doc-link fitted\" rel=\"noreferrer\" target=\"_blank\" href=\"https://scikit-learn.org/1.6/modules/generated/sklearn.ensemble.RandomForestClassifier.html\">?<span>Documentation for RandomForestClassifier</span></a><span class=\"sk-estimator-doc-link fitted\">i<span>Fitted</span></span></div></label><div class=\"sk-toggleable__content fitted\"><pre>RandomForestClassifier()</pre></div> </div></div></div></div>"
      ],
      "text/plain": [
       "RandomForestClassifier()"
      ]
     },
     "execution_count": 32,
     "metadata": {},
     "output_type": "execute_result"
    }
   ],
   "source": [
    "model.fit(X_train,y_train)"
   ]
  },
  {
   "cell_type": "code",
   "execution_count": 33,
   "id": "9e5aaef8-030d-40a3-8caf-6d55029f2355",
   "metadata": {},
   "outputs": [],
   "source": [
    "y_pred = model.predict(X_test)"
   ]
  },
  {
   "cell_type": "code",
   "execution_count": 34,
   "id": "92b99f83-e538-4f43-852b-c6aa9136f8c9",
   "metadata": {},
   "outputs": [],
   "source": [
    "submit = pd.read_csv('../sample_submission.csv')"
   ]
  },
  {
   "cell_type": "code",
   "execution_count": 35,
   "id": "a5459108-db27-47a5-881c-511a75aec10b",
   "metadata": {},
   "outputs": [],
   "source": [
    "submit['class'] = y_pred"
   ]
  },
  {
   "cell_type": "code",
   "execution_count": 36,
   "id": "bf9d4332-c2f5-4fc8-84c9-ee8376f42ba3",
   "metadata": {},
   "outputs": [],
   "source": [
    "submit.to_csv('sub13.csv',index = False,index_label = False)"
   ]
  },
  {
   "cell_type": "code",
   "execution_count": null,
   "id": "786f625c-f232-4b71-978f-07171cde90de",
   "metadata": {},
   "outputs": [],
   "source": []
  }
 ],
 "metadata": {
  "kernelspec": {
   "display_name": "Python 3 (ipykernel)",
   "language": "python",
   "name": "python3"
  },
  "language_info": {
   "codemirror_mode": {
    "name": "ipython",
    "version": 3
   },
   "file_extension": ".py",
   "mimetype": "text/x-python",
   "name": "python",
   "nbconvert_exporter": "python",
   "pygments_lexer": "ipython3",
   "version": "3.12.6"
  }
 },
 "nbformat": 4,
 "nbformat_minor": 5
}
